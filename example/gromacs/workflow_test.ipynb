{
 "cells": [
  {
   "cell_type": "code",
   "execution_count": 1,
   "metadata": {
    "ExecuteTime": {
     "end_time": "2022-10-16T12:00:58.204144Z",
     "start_time": "2022-10-16T12:00:58.019384Z"
    },
    "code_folding": [
     0
    ],
    "collapsed": true
   },
   "outputs": [],
   "source": [
    "# import all function needed\n",
    "\n",
    "import numpy as np\n",
    "import re,copy,os,json\n",
    "import subprocess \n",
    "\n",
    "\n",
    "# from calculator.gromacs.gromacs   import *\n",
    "from calculator.gromacs.mdp_write import print_default_mdp\n",
    "# from calculator.gromacs.pdb_gro   import *\n",
    "# from calculator.gromacs.top_itp   import *\n",
    "from calculator.gromacs.gromacs_workflow import *\n",
    "# from calculator.gromacs.logger import *\n"
   ]
  },
  {
   "cell_type": "markdown",
   "metadata": {
    "heading_collapsed": true
   },
   "source": [
    "# General md simulaiton test"
   ]
  },
  {
   "cell_type": "markdown",
   "metadata": {
    "hidden": true
   },
   "source": [
    "This test case is a sample workflow of a normal md simualiton with gromacs. In the workflow, tasks of different types are involved(minimization, npt, nvt, anneal, normal_node), and they are generally used in simulaiton studies. By combining task steps of different task types, a md simulation protocol is realized and applied to the Remdesivir crystal structre.\n",
    "\n",
    "There are five md steps in the protocol, and those steps are as bellow:\n",
    "\n",
    "1.minimization\n",
    "Energy minimization of the initial structure\n",
    "\n",
    "2.nvt\n",
    "NVT ensemble simulation\n",
    "\n",
    "3.anneal\n",
    "Anneal the structure from low temperature to target tempurature\n",
    "\n",
    "4.npt\n",
    "Relax structure\n",
    "\n",
    "5.normal_mode\\n\n",
    "Caculate the frequency of structure\n",
    "\n",
    "The perpose of the protocol is to calculate the frequency of structure at certain tempurature, and with the potential energy of strucure, a quasi-harmoic approximation free energy of remdesivir crystal structre at the target tempurature is obtained. \n",
    "\n",
    "If the protocl is built, which can be used to calculate free energy of other system conviently."
   ]
  },
  {
   "cell_type": "markdown",
   "metadata": {
    "ExecuteTime": {
     "end_time": "2022-10-13T13:24:42.228339Z",
     "start_time": "2022-10-13T13:24:42.223341Z"
    },
    "hidden": true
   },
   "source": [
    "## mdp parameter "
   ]
  },
  {
   "cell_type": "markdown",
   "metadata": {
    "hidden": true
   },
   "source": [
    "The mdp parameter for task steps is a dict, the key and value in it corresponding to item and value in mdp file.\n",
    "There are a list of default mdp parameters for supported task types, only key mdp items and values are needed，so mdp parameter dict can be short. \n",
    "\n",
    "If you want to know the mdp file contents for certain task types, you can used the function \n",
    "print_default_mdp from calculator.gromacs.top_itp, print mdp file content and check the parameters"
   ]
  },
  {
   "cell_type": "code",
   "execution_count": 2,
   "metadata": {
    "ExecuteTime": {
     "end_time": "2022-10-13T15:47:06.034163Z",
     "start_time": "2022-10-13T15:47:06.008455Z"
    },
    "collapsed": true,
    "hidden": true
   },
   "outputs": [
    {
     "name": "stdout",
     "output_type": "stream",
     "text": [
      "; RUN CONTROL PARAMETERS \n",
      "integrator               =  sd\n",
      "tinit                    =  0\n",
      "dt                       =  0.001\n",
      "nsteps                   =  5000\n",
      "comm-mode                =  Linear\n",
      "\n",
      "; OUTPUT CONTROL OPTIONS\n",
      "nstlog                   =  1000\n",
      "nstenergy                =  1000\n",
      "nstcalcenergy            =  1\n",
      "nstxout                  =  0\n",
      "nstxout-compressed       =  10000\n",
      "compressed-x-precision   =  10000\n",
      "\n",
      "; NEIGHBORSEARCHING PARAMETERS \n",
      "cutoff-scheme            =  Verlet\n",
      "nstlist                  =  10\n",
      "ns-type                  =  grid\n",
      "pbc                      =  xyz\n",
      "rlist                    =  1.2\n",
      "\n",
      "; OPTIONS FOR ELE AND VDW\n",
      "coulombtype              =  PME-Switch\n",
      "rcoulomb-switch          =  1.18\n",
      "rcoulomb                 =  1.2\n",
      "vdwtype                  =  PME\n",
      "vdw-modifier             =  Potential-Shift\n",
      "rvdw                     =  1.2\n",
      "DispCorr                 =  no\n",
      "fourierspacing           =  0.1\n",
      "pme-order                =  4\n",
      "ewald-rtol               =  1e-05\n",
      "ewald-geometry           =  3d\n",
      "\n",
      "\n",
      "; Temperature and pressure coupling\n",
      "nsttcouple               =  1\n",
      "nstpcouple               =  1\n",
      "tc-grps                  =  System\n",
      "tcoupl                   =  Berendsen\n",
      "tau-t                    =  1.0\n",
      "ref-t                    =  300\n",
      "pcoupl                   =  no\n",
      "pcoupltype               =  anisotropic\n",
      "tau-p                    =  3.0\n",
      "ref-p                    =  1.0 1.0 1.0 1.0 1.0 1.0 \n",
      "compressibility          =  4.5e-5 4.5e-5 4.5e-5 4.5e-5 4.5e-5 4.5e-5\n",
      "refcoord-scaling         =  No\n",
      "\n",
      "\n",
      "; SIMULATED ANNEALING  \n",
      "annealing                =  \n",
      "annealing-npoints        =  \n",
      "annealing-time           =  \n",
      "annealing-temp           =  \n",
      "\n",
      "; velocity Generation\n",
      "gen-vel                  =  yes\n",
      "gen-temp                 =  300\n",
      "gen-seed                 =  -1\n",
      "\n",
      "; OPTIONS FOR BONDS \n",
      "constraints              =  none\n",
      "constraint-algorithm     =  lincs\n",
      "lincs-order              =  12\n",
      "lincs-iter               =  1\n",
      "continuation             =  no\n",
      "\n",
      "; Free energy variables \n",
      "free-energy              =  no\n",
      "couple-moltype           =  \n",
      "couple-lambda0           =  vdw-q\n",
      "couple-lambda1           =  vdw-q\n",
      "init-lambda-state        =  0\n",
      "delta-lambda             =  0\n",
      "calc-lambda-neighbors    =  -1\n",
      "nstdhdl                  =  100\n",
      "dhdl-print-energy        =  total\n",
      "\n",
      "\n"
     ]
    }
   ],
   "source": [
    "print(print_default_mdp(\"nvt\", {\"nsteps\": 5000}))"
   ]
  },
  {
   "cell_type": "code",
   "execution_count": 3,
   "metadata": {
    "ExecuteTime": {
     "end_time": "2022-10-16T12:01:10.539440Z",
     "start_time": "2022-10-16T12:01:10.516453Z"
    },
    "code_folding": [],
    "collapsed": true,
    "hidden": true
   },
   "outputs": [],
   "source": [
    "# madp parameter for test 1\n",
    "\n",
    "nvt_mdp = {\"nsteps\": 5000, \n",
    "           \"nstxout-compressed\": 100, \n",
    "           \"compressed-x-precision\":10000, }\n",
    "\n",
    "anneal_mdp = {'compressed-x-precision': 10000,\n",
    "              'nsteps': 5000,\n",
    "              'nstxout-compressed': 100,\n",
    "              'annealing-temp': '300 310',\n",
    "              'annealing-time': '0 10',}\n",
    "\n",
    "npt_mdp = {'nsteps': 5000, \n",
    "             'compressed-x-precision': 10000, \n",
    "             'nsteps': 5000, \n",
    "             'nstxout-compressed': 100}"
   ]
  },
  {
   "cell_type": "markdown",
   "metadata": {
    "hidden": true
   },
   "source": [
    "## Forcefield and structure"
   ]
  },
  {
   "cell_type": "markdown",
   "metadata": {
    "ExecuteTime": {
     "end_time": "2022-10-13T13:30:22.261655Z",
     "start_time": "2022-10-13T13:30:22.247660Z"
    },
    "hidden": true
   },
   "source": [
    "The force field and structure are read as files, gro file and itp file are supported. The names of molecules in structures and force field files should be same, and the names of different molecules should be different."
   ]
  },
  {
   "cell_type": "code",
   "execution_count": 4,
   "metadata": {
    "ExecuteTime": {
     "end_time": "2022-10-13T15:47:15.366379Z",
     "start_time": "2022-10-13T15:47:15.344344Z"
    },
    "code_folding": [],
    "collapsed": true,
    "hidden": true
   },
   "outputs": [],
   "source": [
    "# force field and structure for input \n",
    "\n",
    "# read the force field files\n",
    "ff_list = [os.path.abspath(\"./files/1.general/LIG.itp\")]\n",
    "\n",
    "# read the structure, gro or g96 files supported\n",
    "structure = os.path.abspath(\"./files/1.general/conf.gro\")\n",
    "\n"
   ]
  },
  {
   "cell_type": "markdown",
   "metadata": {
    "ExecuteTime": {
     "end_time": "2022-10-13T13:34:41.475471Z",
     "start_time": "2022-10-13T13:34:41.467476Z"
    },
    "hidden": true
   },
   "source": [
    "## Input dict for workflow "
   ]
  },
  {
   "cell_type": "markdown",
   "metadata": {
    "hidden": true
   },
   "source": [
    "The workflow dict includes all parameters needed for gromacs md simulaiton. Those paramters have three parts, the task step name list, task step parameters and the start mode."
   ]
  },
  {
   "cell_type": "code",
   "execution_count": 9,
   "metadata": {
    "ExecuteTime": {
     "end_time": "2022-10-13T15:50:26.035982Z",
     "start_time": "2022-10-13T15:50:25.944005Z"
    },
    "code_folding": [],
    "collapsed": true,
    "hidden": true
   },
   "outputs": [],
   "source": [
    "\n",
    "workflow_json = { \n",
    "    \n",
    "    # Names of task steps, those task steps will be conducted one by one sequentially\n",
    "    \"task_step\" :[\"1.minimization\", \"2.nvt\", \"3.anneal\", \"4.npt\", \"5.normal_mode\"],\n",
    "    \n",
    "    #           parameters for task step.\n",
    "    #           runtype : to use openmpi, ntmpi, ntomp or gpu to run the simulaiton tasks,\n",
    "    #                     Supported keywords are \"ntomp\", \"openmpi\",\"ntmpi\" ,\"gpu\", or mixture \n",
    "    #                     of them,  like \"gpu_ntmpi\"( to used gpu and ntmpi sametime ). But \"openmpi\"\n",
    "    #                     and \"ntmpi\" can not be presented, cause they are not compatible\n",
    "    #           core_num： total thread num, which will be omitted when runtype is \"openmpi_ntomp\" \n",
    "    #                      or \"ntmpi_ntmpi\"\n",
    "    #           mpi_num： thread num of openmpi or ntmpi \n",
    "    #           omp_num： thread num of openmp\n",
    "    #           gpu_id：  value of -gpu_id item in \"gmx mdrun \" , indexes of gpu used in calculaiton\n",
    "    \n",
    "    #           task_type : task type of task step, supported keywords are [\"minimization\", \"npt\", \"nvt\", \n",
    "    #                       \"replica_exchange\", \"free_energy\", \"pull\",\"anneal\",\"normal_mode\", \"rerun\",\"cmd\"].\n",
    "    #                        There are default mdp parameters for every task types, except for cmd, which means \n",
    "    #                       to exccute cmd or shell conmmand lines\n",
    "    #           cmd       : string or a list of string, the cmd or shell conmmand line strings\n",
    "    #           ff_list   : force filed file list \n",
    "    #           ff_type   : force filed type, default is gaff, \"gaff\" and \"opls\" are supported, \"gaff\" is default \n",
    "    #           mdp_para  : mdp paramneter dict\n",
    "    #           structure : input struture, gro file or gro file list. If not provided, the struture result of \n",
    "    #                       last step will be used. If it is a list of structure, the simulaiton will be done for\n",
    "    #                       every structure in the list one by one\n",
    "    #           pos_restraint : position restriant, it is a dict, the key of dict is the force field molecule \n",
    "    #                           name, and value is a list, the elements of list is the parameter of restriant \n",
    "    #                           settings, refer to free energy test eamxple for detail using\n",
    "    \n",
    "\n",
    "    #           ref_structure : reference structure path\n",
    "    \n",
    "    #           index     : parameter to generate index, ndx file. It is a dict, the keys of dict is the group \n",
    "    #           name, and the value is also a dict, the key of dict can be the molecule name of mol in input structure, \n",
    "    #           or keywords \"mol\" ,\"atom\", and the value is the list of index of molecules, mol or atom, number and \n",
    "    #           string like \"1-20\" are supported\n",
    "    \n",
    "    #           precision : the verison of gromacs used in simulaiton, double or mixed precision\n",
    "    \n",
    "    #           result    : result process, which is a dict, the key is the result type, and the value \n",
    "    #                       result type is the parameter for result process. Keywords of \"rmsd\", \"structure\", \"energy\", \"wham\",\n",
    "    #                       \"bar\" types can be used. If result not presented, the final output structure\n",
    "    #                       is returned as result.\n",
    "    \n",
    "    #                       for structure, dump_time, index and group can be added, dump_time is a list or a float\n",
    "    #                       for rmsd, index and group can be added\n",
    "    #                       for energy, item can be add, string or int, or a list of string  or int, which decide which energy part read.\n",
    "    #                       If no item presented, all item will be returned\n",
    "    #                       for wham and bar, no parameter needed\n",
    "    \n",
    "    \n",
    "    \n",
    "                \"1.minimization\":{\"runtype\":\"ntomp\",\"core_num\":1,\"task_type\":\"minimization\",\n",
    "                                  \"ff_list\":ff_list,\n",
    "                                  \"mdp_para\":minimization, \"structure\": structure},\n",
    "    \n",
    "                \"2.nvt\"     :{\"runtype\":\"ntomp\", \"task_type\":\"nvt\", \"ff_list\":ff_list,\n",
    "                                   \"mdp_para\":nvt_mdp, \"result\":{\"rmsd\":{}, \"energy\":{}}},\n",
    "                \"3.anneal\"  :{\"runtype\":\"ntomp\", \"task_type\":\"anneal\",\"ff_list\":ff_list,\n",
    "                                  \"mdp_para\":anneal_mdp,\"result\":{\"rmsd\":{}, \"energy\":{}} },\n",
    "                \"4.npt\"     :{\"runtype\":\"ntomp\", \"task_type\":\"npt\", \"ff_list\":ff_list,\n",
    "                                   \"mdp_para\":nvt_mdp, \"result\":{\"rmsd\":{}, \"energy\":{}}},\n",
    "                \"5.normal_mode\"  :{\"runtype\":\"ntomp\",\"core_num\":4, \"task_type\":\"normal_mode\", \"ff_list\":ff_list,\n",
    "                                   \"mdp_para\":{\"integrator\": \"nm\"}},\n",
    "    \n",
    "    # start_mode:  start mode of workflow, \"from_scratch\" is to start the workflow brand new, and backup files before,\n",
    "    #               and \"continue_run\" is to continue the task unfinished before\n",
    "    \"start_mode\" : \"from_scratch\",\n",
    "    \n",
    "    \n",
    "    # start step index of workflow\n",
    "    \"start_step\" : 0,\n",
    "\n",
    "    \n",
    "                }"
   ]
  },
  {
   "cell_type": "markdown",
   "metadata": {
    "heading_collapsed": true,
    "hidden": true
   },
   "source": [
    "## Gromacs exe path"
   ]
  },
  {
   "cell_type": "markdown",
   "metadata": {
    "hidden": true
   },
   "source": [
    "Dict of gmx_exe includes the paths of gromacs executing files and mpirun, and the path of libraries needed. About how to install gromacs of different verisons, you can refer to the script gmx_install.sh file, in which all verison of gromacs used in the workflow are installed. If gromacs installed as the script, then the gmx_exe can be as follow "
   ]
  },
  {
   "cell_type": "code",
   "execution_count": null,
   "metadata": {
    "collapsed": true,
    "hidden": true
   },
   "outputs": [],
   "source": [
    "# openmpi install path\n",
    "openmpi_base_path = \"xxx_openmpi\"\n",
    "\n",
    "# gromacs install path\n",
    "gromacs_basepath = \"xxx_gromacs\"\n",
    "\n",
    "gmx_exe = {\n",
    "    \n",
    "    \"mpirun\":       openmpi_base_path + \"/bin/mpirun\",\n",
    "    \"openmpi_lib\" : openmpi_base_path + \"/lib\",\n",
    "          \n",
    "    \"gmx\"         :  gromacs_basepath + \"/sp/bin/gmx\" , \n",
    "    \"gmx_mpi\"     :  gromacs_basepath + \"/sp_mpi/bin/gmx_mpi\" , \n",
    "    \"gmx_d\"       :  gromacs_basepath + \"/dp/bin/gmx_d\" , \n",
    "    \"gmx_mpi_d\"   :  gromacs_basepath + \"/dp_mpi/bin/gmx_mpi_d\" , \n",
    "    \"gmx_gpu\"     :  gromacs_basepath + \"/gpu/bin/gmx\" , \n",
    "    \"gmx_gpu_mpi\" :  gromacs_basepath + \"/gpu_mpi/bin/gmx_mpi\" , \n",
    "    \n",
    "    }\n"
   ]
  },
  {
   "cell_type": "markdown",
   "metadata": {
    "heading_collapsed": true,
    "hidden": true
   },
   "source": [
    "## Run workflow"
   ]
  },
  {
   "cell_type": "markdown",
   "metadata": {
    "ExecuteTime": {
     "end_time": "2022-10-13T15:48:01.414585Z",
     "start_time": "2022-10-13T15:48:01.399592Z"
    },
    "hidden": true
   },
   "source": [
    "As the running of the simulaiton, log information of workflow will be saved and printed."
   ]
  },
  {
   "cell_type": "code",
   "execution_count": 3,
   "metadata": {
    "ExecuteTime": {
     "end_time": "2022-10-14T14:50:59.123134Z",
     "start_time": "2022-10-14T14:50:59.102151Z"
    },
    "code_folding": [],
    "collapsed": true,
    "hidden": true
   },
   "outputs": [],
   "source": [
    "# all files of task steps will be save in run_dir\n",
    "\n",
    "\n",
    "run_dir = \"./1.general/\"\n",
    "os.mkdir(run_dir)\n",
    "os.chdir(run_dir)\n",
    "\n",
    "task = Gromacs_workflow(workflow_json=workflow_json, gmx_exe=gmx_exe)\n",
    "task.task_run() "
   ]
  },
  {
   "cell_type": "markdown",
   "metadata": {
    "heading_collapsed": true
   },
   "source": [
    "# multi-subtask and rerun test"
   ]
  },
  {
   "cell_type": "markdown",
   "metadata": {
    "hidden": true
   },
   "source": [
    "In this test case, a task step with multi-subtasks and a rerun of a former task step are included.\n",
    "\n",
    "In the workflow protocol, at the step \"3.anneal\", structures of time [0.1,0.2,0.3,0.4,0.5] in trajctory are dumped, and taken as the input structure of next step, which responding to the structures at temperature of [302,304,306,308,310] in the anneal simulaiton. The input structures of step \"4.npt\" is a list, at same time the \"ref-t\" parameter in mdp is also a list. Then there will be five subtasks in \"4.npt\". For the first task, the input structure is the first structure in structure list, and the \"ref-t\" is first temperature in \"ref-t\" parameter list; For the second task, the structure and \"ref-t\" parameter in the list will be used, and so on. All other paramter are the same.\n",
    "\n",
    "When simulaiton tasks which only serveal mdp parameters are different, or the input structures are different, those parameters or structure can be setted as a list in workflow imput dict, and those simulaiton tasks will be the subtasks of the step.\n",
    "\n",
    "As the subtasks are calculating one by one, so it may take a long time to finish all the tasks, if there are many subtasks. Rather then using a larger core number in gromacs runing, here is a trick to speed up the calculation. Stopping the task step after all the gromacs file for running created, then all the tasks can be running at same time if we submit those subtasks to other hpc system. After finishing running all the subtasks, set the \"start_mode\" to \"continue_run\" and \"start_step\" to the index of current task step, and start the workflow protocol. The simulaiton will go on as all the subtasks finish and continue to the following result process part.\n",
    "\n",
    "\n",
    "In the task type of task type is \"rerun\", the energies of trajctory in the task step we are to do rerun on will be calculated. If force file and mdp paramter, the parameter of those will same with the taget task step. Index is also supported."
   ]
  },
  {
   "cell_type": "code",
   "execution_count": 24,
   "metadata": {
    "ExecuteTime": {
     "end_time": "2022-10-14T14:56:43.186348Z",
     "start_time": "2022-10-14T14:56:43.131382Z"
    },
    "code_folding": [],
    "collapsed": true,
    "hidden": true
   },
   "outputs": [],
   "source": [
    "\n",
    "ff_list = [os.path.abspath(\"./files/1.general/LIG.itp\")]\n",
    "structure = os.path.abspath(\"./test/1.general/conf.gro\")\n",
    "\n",
    "\n",
    "nvt_mdp[\"ref-t\"] = 302\n",
    "\n",
    "# The mdp parameter can be a list. When this is the case, simulaiton of every parameter in the list will \n",
    "# be conducted one by one. If the length of input structure list and the length of mdp parameter list is smae,\n",
    "# then the simulation of the structure and the mdp parameter which have the same index in the structure and mdp parameter \n",
    "# list will be conducted,so there will be same number of sub-simuliaton task as the length of mdp parameter list.\n",
    "# If the length of structure list is different from the length of mdp parameter list, a error will be raised, and \n",
    "# the simulaiton exits.So all length mdp parameter lists and structure list should be same\n",
    "npt_mdp[\"ref-t\"] = [302,304,306,308,310]\n",
    "\n",
    "workflow_json = { \"task_step\" :[\"1.minimization\", \"2.nvt\",\"3.anneal\", \"4.npt\",\"6.rerun\"],\n",
    "                \"1.minimization\":{\"runtype\":\"ntomp\", \"task_type\":\"minimization\",\"ff_list\":ff_list,\n",
    "                                  \"mdp_para\":minimization, \"structure\": structure},\n",
    "                \"2.nvt\"     :{\"runtype\":\"ntomp\", \"task_type\":\"nvt\", \"ff_list\":ff_list,                              \n",
    "                                   \"mdp_para\":nvt_mdp, \"result\":{\"rmsd\":{}, \"energy\":{}}},\n",
    "                \"3.anneal\"  :{\"runtype\":\"ntomp\", \"task_type\":\"anneal\",\"ff_list\":ff_list,\n",
    "                              \"structure\": structure,\n",
    "                                  \"mdp_para\":anneal_mdp,\"result\":{\"rmsd\":{}, \"energy\":{},\n",
    "                                                                   \"structure\":{\"dump_time\":[0.1,0.2,0.3,0.4,0.5]}} },\n",
    "                \"4.npt\"     :{\"runtype\":\"ntomp\", \"task_type\":\"npt\", \"ff_list\":ff_list,\n",
    "                                   \"mdp_para\":npt_mdp, \"result\":{\"rmsd\":{}, \"energy\":{}}},\n",
    "#                 \"5.normal_mode\"  :{\"runtype\":\"ntomp\", \"task_type\":\"normal_mode\", \"ff_list\":ff_list,\n",
    "#                                    \"mdp_para\":{\"integrator\": \"nm\"}},\n",
    "                \"6.rerun\"   :{\"task_type\":\"rerun\", \"task_step\":\"4.npt\"},\n",
    "                 \"start_step\" : 0,\n",
    "#                  \"start_mode\" :\"continue_run\"\n",
    "                \n",
    "                }\n"
   ]
  },
  {
   "cell_type": "code",
   "execution_count": 22,
   "metadata": {
    "ExecuteTime": {
     "end_time": "2022-10-14T14:56:32.405702Z",
     "start_time": "2022-10-14T14:56:32.395712Z"
    },
    "collapsed": true,
    "hidden": true
   },
   "outputs": [],
   "source": [
    "os.chdir(\"C:\\\\Users\\\\dianc\\\\Desktop\\\\jpy文档\\\\11.operator\")"
   ]
  },
  {
   "cell_type": "code",
   "execution_count": 25,
   "metadata": {
    "ExecuteTime": {
     "end_time": "2022-10-14T15:29:33.185078Z",
     "start_time": "2022-10-14T14:56:48.333173Z"
    },
    "hidden": true
   },
   "outputs": [
    {
     "name": "stdout",
     "output_type": "stream",
     "text": [
      "[2022-10-14 10:56:48][INFO] Task_step 1.minimization starts \n",
      "[2022-10-14 10:56:48][INFO] Task_step 1.minimization starts \n",
      "[2022-10-14 10:56:48][INFO] Task_step 1.minimization starts \n",
      "[2022-10-14 10:56:48][INFO] Task_step 1.minimization starts \n",
      "[2022-10-14 10:56:48][INFO] Task_step 1.minimization starts \n",
      "[2022-10-14 10:56:48][INFO] The task type is minimization, and mdp parameters is {'integrator': 'steep', 'emtol': 2.0, 'emstep': 0.01, 'nsteps': 80000, 'nstcomm': 2, 'nstxout': 0, 'nstxout-compressed': 1000, 'tcoupl': 'no', 'gen-vel': 'no', 'pcoupl': 'no', 'tau-p': 10.0} \n",
      "[2022-10-14 10:56:48][INFO] The task type is minimization, and mdp parameters is {'integrator': 'steep', 'emtol': 2.0, 'emstep': 0.01, 'nsteps': 80000, 'nstcomm': 2, 'nstxout': 0, 'nstxout-compressed': 1000, 'tcoupl': 'no', 'gen-vel': 'no', 'pcoupl': 'no', 'tau-p': 10.0} \n",
      "[2022-10-14 10:56:48][INFO] The task type is minimization, and mdp parameters is {'integrator': 'steep', 'emtol': 2.0, 'emstep': 0.01, 'nsteps': 80000, 'nstcomm': 2, 'nstxout': 0, 'nstxout-compressed': 1000, 'tcoupl': 'no', 'gen-vel': 'no', 'pcoupl': 'no', 'tau-p': 10.0} \n",
      "[2022-10-14 10:56:48][INFO] The task type is minimization, and mdp parameters is {'integrator': 'steep', 'emtol': 2.0, 'emstep': 0.01, 'nsteps': 80000, 'nstcomm': 2, 'nstxout': 0, 'nstxout-compressed': 1000, 'tcoupl': 'no', 'gen-vel': 'no', 'pcoupl': 'no', 'tau-p': 10.0} \n",
      "[2022-10-14 10:56:48][INFO] The task type is minimization, and mdp parameters is {'integrator': 'steep', 'emtol': 2.0, 'emstep': 0.01, 'nsteps': 80000, 'nstcomm': 2, 'nstxout': 0, 'nstxout-compressed': 1000, 'tcoupl': 'no', 'gen-vel': 'no', 'pcoupl': 'no', 'tau-p': 10.0} \n",
      "[2022-10-14 10:57:55][INFO] Task_step 1.minimization finish runing \n",
      "[2022-10-14 10:57:55][INFO] Task_step 1.minimization finish runing \n",
      "[2022-10-14 10:57:55][INFO] Task_step 1.minimization finish runing \n",
      "[2022-10-14 10:57:55][INFO] Task_step 1.minimization finish runing \n",
      "[2022-10-14 10:57:55][INFO] Task_step 1.minimization finish runing \n",
      "[2022-10-14 10:57:55][INFO] Task_step 2.nvt starts \n",
      "[2022-10-14 10:57:55][INFO] Task_step 2.nvt starts \n",
      "[2022-10-14 10:57:55][INFO] Task_step 2.nvt starts \n",
      "[2022-10-14 10:57:55][INFO] Task_step 2.nvt starts \n",
      "[2022-10-14 10:57:55][INFO] Task_step 2.nvt starts \n",
      "[2022-10-14 10:57:55][INFO] The task type is nvt, and mdp parameters is {'integrator': 'sd', 'dt': 0.001, 'nsteps': 5000, 'nstxout': 0, 'nstxout-compressed': 100, 'ref-t': 302, 'tcoupl': 'Berendsen', 'tau-t': 1.0, 'gen-vel': 'yes', 'pcoupl': 'no', 'tau-p': 3.0, 'compressed-x-precision': 10000} \n",
      "[2022-10-14 10:57:55][INFO] The task type is nvt, and mdp parameters is {'integrator': 'sd', 'dt': 0.001, 'nsteps': 5000, 'nstxout': 0, 'nstxout-compressed': 100, 'ref-t': 302, 'tcoupl': 'Berendsen', 'tau-t': 1.0, 'gen-vel': 'yes', 'pcoupl': 'no', 'tau-p': 3.0, 'compressed-x-precision': 10000} \n",
      "[2022-10-14 10:57:55][INFO] The task type is nvt, and mdp parameters is {'integrator': 'sd', 'dt': 0.001, 'nsteps': 5000, 'nstxout': 0, 'nstxout-compressed': 100, 'ref-t': 302, 'tcoupl': 'Berendsen', 'tau-t': 1.0, 'gen-vel': 'yes', 'pcoupl': 'no', 'tau-p': 3.0, 'compressed-x-precision': 10000} \n",
      "[2022-10-14 10:57:55][INFO] The task type is nvt, and mdp parameters is {'integrator': 'sd', 'dt': 0.001, 'nsteps': 5000, 'nstxout': 0, 'nstxout-compressed': 100, 'ref-t': 302, 'tcoupl': 'Berendsen', 'tau-t': 1.0, 'gen-vel': 'yes', 'pcoupl': 'no', 'tau-p': 3.0, 'compressed-x-precision': 10000} \n",
      "[2022-10-14 10:57:55][INFO] The task type is nvt, and mdp parameters is {'integrator': 'sd', 'dt': 0.001, 'nsteps': 5000, 'nstxout': 0, 'nstxout-compressed': 100, 'ref-t': 302, 'tcoupl': 'Berendsen', 'tau-t': 1.0, 'gen-vel': 'yes', 'pcoupl': 'no', 'tau-p': 3.0, 'compressed-x-precision': 10000} \n",
      "[2022-10-14 11:02:16][INFO] Task_step 2.nvt finish runing \n",
      "[2022-10-14 11:02:16][INFO] Task_step 2.nvt finish runing \n",
      "[2022-10-14 11:02:16][INFO] Task_step 2.nvt finish runing \n",
      "[2022-10-14 11:02:16][INFO] Task_step 2.nvt finish runing \n",
      "[2022-10-14 11:02:16][INFO] Task_step 2.nvt finish runing \n",
      "[2022-10-14 11:02:16][INFO] Task_step 3.anneal starts \n",
      "[2022-10-14 11:02:16][INFO] Task_step 3.anneal starts \n",
      "[2022-10-14 11:02:16][INFO] Task_step 3.anneal starts \n",
      "[2022-10-14 11:02:16][INFO] Task_step 3.anneal starts \n",
      "[2022-10-14 11:02:16][INFO] Task_step 3.anneal starts \n",
      "[2022-10-14 11:02:16][INFO] The task type is anneal, and mdp parameters is {'integrator': 'sd', 'dt': 0.001, 'nsteps': 5000, 'nstxout': 0, 'nstxout-compressed': 100, 'ref-t': 300, 'tcoupl': 'Berendsen', 'tau-t': 1.0, 'gen-vel': 'yes', 'pcoupl': 'Berendsen', 'tau-p': 3.0, 'annealing': 'yes', 'annealing-npoints': '2', 'annealing-temp': '300 310', 'annealing-time': '0 10', 'compressed-x-precision': 10000} \n",
      "[2022-10-14 11:02:16][INFO] The task type is anneal, and mdp parameters is {'integrator': 'sd', 'dt': 0.001, 'nsteps': 5000, 'nstxout': 0, 'nstxout-compressed': 100, 'ref-t': 300, 'tcoupl': 'Berendsen', 'tau-t': 1.0, 'gen-vel': 'yes', 'pcoupl': 'Berendsen', 'tau-p': 3.0, 'annealing': 'yes', 'annealing-npoints': '2', 'annealing-temp': '300 310', 'annealing-time': '0 10', 'compressed-x-precision': 10000} \n",
      "[2022-10-14 11:02:16][INFO] The task type is anneal, and mdp parameters is {'integrator': 'sd', 'dt': 0.001, 'nsteps': 5000, 'nstxout': 0, 'nstxout-compressed': 100, 'ref-t': 300, 'tcoupl': 'Berendsen', 'tau-t': 1.0, 'gen-vel': 'yes', 'pcoupl': 'Berendsen', 'tau-p': 3.0, 'annealing': 'yes', 'annealing-npoints': '2', 'annealing-temp': '300 310', 'annealing-time': '0 10', 'compressed-x-precision': 10000} \n",
      "[2022-10-14 11:02:16][INFO] The task type is anneal, and mdp parameters is {'integrator': 'sd', 'dt': 0.001, 'nsteps': 5000, 'nstxout': 0, 'nstxout-compressed': 100, 'ref-t': 300, 'tcoupl': 'Berendsen', 'tau-t': 1.0, 'gen-vel': 'yes', 'pcoupl': 'Berendsen', 'tau-p': 3.0, 'annealing': 'yes', 'annealing-npoints': '2', 'annealing-temp': '300 310', 'annealing-time': '0 10', 'compressed-x-precision': 10000} \n",
      "[2022-10-14 11:02:16][INFO] The task type is anneal, and mdp parameters is {'integrator': 'sd', 'dt': 0.001, 'nsteps': 5000, 'nstxout': 0, 'nstxout-compressed': 100, 'ref-t': 300, 'tcoupl': 'Berendsen', 'tau-t': 1.0, 'gen-vel': 'yes', 'pcoupl': 'Berendsen', 'tau-p': 3.0, 'annealing': 'yes', 'annealing-npoints': '2', 'annealing-temp': '300 310', 'annealing-time': '0 10', 'compressed-x-precision': 10000} \n",
      "[2022-10-14 11:06:33][INFO] Task_step 3.anneal finish runing \n",
      "[2022-10-14 11:06:33][INFO] Task_step 3.anneal finish runing \n",
      "[2022-10-14 11:06:33][INFO] Task_step 3.anneal finish runing \n",
      "[2022-10-14 11:06:33][INFO] Task_step 3.anneal finish runing \n",
      "[2022-10-14 11:06:33][INFO] Task_step 3.anneal finish runing \n",
      "[2022-10-14 11:06:33][INFO] Task_step 4.npt starts \n",
      "[2022-10-14 11:06:33][INFO] Task_step 4.npt starts \n",
      "[2022-10-14 11:06:33][INFO] Task_step 4.npt starts \n",
      "[2022-10-14 11:06:33][INFO] Task_step 4.npt starts \n",
      "[2022-10-14 11:06:33][INFO] Task_step 4.npt starts \n",
      "[2022-10-14 11:06:33][INFO] The task type is npt, and mdp parameters is {'integrator': 'sd', 'dt': 0.001, 'nsteps': 5000, 'nstxout': 0, 'nstxout-compressed': 100, 'ref-t': [302, 304, 306, 308, 310], 'tcoupl': 'Berendsen', 'tau-t': 1.0, 'gen-vel': 'yes', 'pcoupl': 'Berendsen', 'tau-p': 3.0, 'compressed-x-precision': 10000} \n",
      "[2022-10-14 11:06:33][INFO] The task type is npt, and mdp parameters is {'integrator': 'sd', 'dt': 0.001, 'nsteps': 5000, 'nstxout': 0, 'nstxout-compressed': 100, 'ref-t': [302, 304, 306, 308, 310], 'tcoupl': 'Berendsen', 'tau-t': 1.0, 'gen-vel': 'yes', 'pcoupl': 'Berendsen', 'tau-p': 3.0, 'compressed-x-precision': 10000} \n",
      "[2022-10-14 11:06:33][INFO] The task type is npt, and mdp parameters is {'integrator': 'sd', 'dt': 0.001, 'nsteps': 5000, 'nstxout': 0, 'nstxout-compressed': 100, 'ref-t': [302, 304, 306, 308, 310], 'tcoupl': 'Berendsen', 'tau-t': 1.0, 'gen-vel': 'yes', 'pcoupl': 'Berendsen', 'tau-p': 3.0, 'compressed-x-precision': 10000} \n",
      "[2022-10-14 11:06:33][INFO] The task type is npt, and mdp parameters is {'integrator': 'sd', 'dt': 0.001, 'nsteps': 5000, 'nstxout': 0, 'nstxout-compressed': 100, 'ref-t': [302, 304, 306, 308, 310], 'tcoupl': 'Berendsen', 'tau-t': 1.0, 'gen-vel': 'yes', 'pcoupl': 'Berendsen', 'tau-p': 3.0, 'compressed-x-precision': 10000} \n"
     ]
    },
    {
     "name": "stdout",
     "output_type": "stream",
     "text": [
      "[2022-10-14 11:06:33][INFO] The task type is npt, and mdp parameters is {'integrator': 'sd', 'dt': 0.001, 'nsteps': 5000, 'nstxout': 0, 'nstxout-compressed': 100, 'ref-t': [302, 304, 306, 308, 310], 'tcoupl': 'Berendsen', 'tau-t': 1.0, 'gen-vel': 'yes', 'pcoupl': 'Berendsen', 'tau-p': 3.0, 'compressed-x-precision': 10000} \n",
      "[2022-10-14 11:06:34][INFO] The subtask md_0 of 4.npt starts \n",
      "[2022-10-14 11:06:34][INFO] The subtask md_0 of 4.npt starts \n",
      "[2022-10-14 11:06:34][INFO] The subtask md_0 of 4.npt starts \n",
      "[2022-10-14 11:06:34][INFO] The subtask md_0 of 4.npt starts \n",
      "[2022-10-14 11:06:34][INFO] The subtask md_0 of 4.npt starts \n",
      "[2022-10-14 11:10:52][INFO] The subtask md_0 of 4.npt finishes \n",
      "[2022-10-14 11:10:52][INFO] The subtask md_0 of 4.npt finishes \n",
      "[2022-10-14 11:10:52][INFO] The subtask md_0 of 4.npt finishes \n",
      "[2022-10-14 11:10:52][INFO] The subtask md_0 of 4.npt finishes \n",
      "[2022-10-14 11:10:52][INFO] The subtask md_0 of 4.npt finishes \n",
      "[2022-10-14 11:10:52][INFO] The subtask md_1 of 4.npt starts \n",
      "[2022-10-14 11:10:52][INFO] The subtask md_1 of 4.npt starts \n",
      "[2022-10-14 11:10:52][INFO] The subtask md_1 of 4.npt starts \n",
      "[2022-10-14 11:10:52][INFO] The subtask md_1 of 4.npt starts \n",
      "[2022-10-14 11:10:52][INFO] The subtask md_1 of 4.npt starts \n",
      "[2022-10-14 11:15:24][INFO] The subtask md_1 of 4.npt finishes \n",
      "[2022-10-14 11:15:24][INFO] The subtask md_1 of 4.npt finishes \n",
      "[2022-10-14 11:15:24][INFO] The subtask md_1 of 4.npt finishes \n",
      "[2022-10-14 11:15:24][INFO] The subtask md_1 of 4.npt finishes \n",
      "[2022-10-14 11:15:24][INFO] The subtask md_1 of 4.npt finishes \n",
      "[2022-10-14 11:15:24][INFO] The subtask md_2 of 4.npt starts \n",
      "[2022-10-14 11:15:24][INFO] The subtask md_2 of 4.npt starts \n",
      "[2022-10-14 11:15:24][INFO] The subtask md_2 of 4.npt starts \n",
      "[2022-10-14 11:15:24][INFO] The subtask md_2 of 4.npt starts \n",
      "[2022-10-14 11:15:24][INFO] The subtask md_2 of 4.npt starts \n",
      "[2022-10-14 11:19:57][INFO] The subtask md_2 of 4.npt finishes \n",
      "[2022-10-14 11:19:57][INFO] The subtask md_2 of 4.npt finishes \n",
      "[2022-10-14 11:19:57][INFO] The subtask md_2 of 4.npt finishes \n",
      "[2022-10-14 11:19:57][INFO] The subtask md_2 of 4.npt finishes \n",
      "[2022-10-14 11:19:57][INFO] The subtask md_2 of 4.npt finishes \n",
      "[2022-10-14 11:19:57][INFO] The subtask md_3 of 4.npt starts \n",
      "[2022-10-14 11:19:57][INFO] The subtask md_3 of 4.npt starts \n",
      "[2022-10-14 11:19:57][INFO] The subtask md_3 of 4.npt starts \n",
      "[2022-10-14 11:19:57][INFO] The subtask md_3 of 4.npt starts \n",
      "[2022-10-14 11:19:57][INFO] The subtask md_3 of 4.npt starts \n",
      "[2022-10-14 11:24:32][INFO] The subtask md_3 of 4.npt finishes \n",
      "[2022-10-14 11:24:32][INFO] The subtask md_3 of 4.npt finishes \n",
      "[2022-10-14 11:24:32][INFO] The subtask md_3 of 4.npt finishes \n",
      "[2022-10-14 11:24:32][INFO] The subtask md_3 of 4.npt finishes \n",
      "[2022-10-14 11:24:32][INFO] The subtask md_3 of 4.npt finishes \n",
      "[2022-10-14 11:24:32][INFO] The subtask md_4 of 4.npt starts \n",
      "[2022-10-14 11:24:32][INFO] The subtask md_4 of 4.npt starts \n",
      "[2022-10-14 11:24:32][INFO] The subtask md_4 of 4.npt starts \n",
      "[2022-10-14 11:24:32][INFO] The subtask md_4 of 4.npt starts \n",
      "[2022-10-14 11:24:32][INFO] The subtask md_4 of 4.npt starts \n",
      "[2022-10-14 11:29:07][INFO] The subtask md_4 of 4.npt finishes \n",
      "[2022-10-14 11:29:07][INFO] The subtask md_4 of 4.npt finishes \n",
      "[2022-10-14 11:29:07][INFO] The subtask md_4 of 4.npt finishes \n",
      "[2022-10-14 11:29:07][INFO] The subtask md_4 of 4.npt finishes \n",
      "[2022-10-14 11:29:07][INFO] The subtask md_4 of 4.npt finishes \n",
      "[2022-10-14 11:29:09][INFO] 4.npt result process rmsd \n",
      "[2022-10-14 11:29:09][INFO] 4.npt result process rmsd \n",
      "[2022-10-14 11:29:09][INFO] 4.npt result process rmsd \n",
      "[2022-10-14 11:29:09][INFO] 4.npt result process rmsd \n",
      "[2022-10-14 11:29:09][INFO] 4.npt result process rmsd \n",
      "[2022-10-14 11:29:09][INFO] 4.npt result process energy \n",
      "[2022-10-14 11:29:09][INFO] 4.npt result process energy \n",
      "[2022-10-14 11:29:09][INFO] 4.npt result process energy \n",
      "[2022-10-14 11:29:09][INFO] 4.npt result process energy \n",
      "[2022-10-14 11:29:09][INFO] 4.npt result process energy \n",
      "[2022-10-14 11:29:09][INFO] Task_step 4.npt finish runing \n",
      "[2022-10-14 11:29:09][INFO] Task_step 4.npt finish runing \n",
      "[2022-10-14 11:29:09][INFO] Task_step 4.npt finish runing \n",
      "[2022-10-14 11:29:09][INFO] Task_step 4.npt finish runing \n",
      "[2022-10-14 11:29:09][INFO] Task_step 4.npt finish runing \n",
      "[2022-10-14 11:29:09][INFO] Task_step 6.rerun starts \n",
      "[2022-10-14 11:29:09][INFO] Task_step 6.rerun starts \n",
      "[2022-10-14 11:29:09][INFO] Task_step 6.rerun starts \n",
      "[2022-10-14 11:29:09][INFO] Task_step 6.rerun starts \n",
      "[2022-10-14 11:29:09][INFO] Task_step 6.rerun starts \n",
      "[2022-10-14 11:29:09][INFO] The task type is rerun, and mdp parameters is {'integrator': 'sd', 'dt': 0.001, 'nsteps': 1000000, 'nstxout': 0, 'nstxout-compressed': 10000, 'ref-t': 300, 'tcoupl': 'Berendsen', 'tau-t': 1.0, 'gen-vel': 'yes', 'pcoupl': 'no', 'tau-p': 3.0} \n",
      "[2022-10-14 11:29:09][INFO] The task type is rerun, and mdp parameters is {'integrator': 'sd', 'dt': 0.001, 'nsteps': 1000000, 'nstxout': 0, 'nstxout-compressed': 10000, 'ref-t': 300, 'tcoupl': 'Berendsen', 'tau-t': 1.0, 'gen-vel': 'yes', 'pcoupl': 'no', 'tau-p': 3.0} \n",
      "[2022-10-14 11:29:09][INFO] The task type is rerun, and mdp parameters is {'integrator': 'sd', 'dt': 0.001, 'nsteps': 1000000, 'nstxout': 0, 'nstxout-compressed': 10000, 'ref-t': 300, 'tcoupl': 'Berendsen', 'tau-t': 1.0, 'gen-vel': 'yes', 'pcoupl': 'no', 'tau-p': 3.0} \n",
      "[2022-10-14 11:29:09][INFO] The task type is rerun, and mdp parameters is {'integrator': 'sd', 'dt': 0.001, 'nsteps': 1000000, 'nstxout': 0, 'nstxout-compressed': 10000, 'ref-t': 300, 'tcoupl': 'Berendsen', 'tau-t': 1.0, 'gen-vel': 'yes', 'pcoupl': 'no', 'tau-p': 3.0} \n",
      "[2022-10-14 11:29:09][INFO] The task type is rerun, and mdp parameters is {'integrator': 'sd', 'dt': 0.001, 'nsteps': 1000000, 'nstxout': 0, 'nstxout-compressed': 10000, 'ref-t': 300, 'tcoupl': 'Berendsen', 'tau-t': 1.0, 'gen-vel': 'yes', 'pcoupl': 'no', 'tau-p': 3.0} \n",
      "[2022-10-14 11:29:10][INFO] The subtask md_0 of 6.rerun starts \n",
      "[2022-10-14 11:29:10][INFO] The subtask md_0 of 6.rerun starts \n",
      "[2022-10-14 11:29:10][INFO] The subtask md_0 of 6.rerun starts \n",
      "[2022-10-14 11:29:10][INFO] The subtask md_0 of 6.rerun starts \n",
      "[2022-10-14 11:29:10][INFO] The subtask md_0 of 6.rerun starts \n",
      "[2022-10-14 11:29:15][INFO] The subtask md_0 of 6.rerun finishes \n",
      "[2022-10-14 11:29:15][INFO] The subtask md_0 of 6.rerun finishes \n",
      "[2022-10-14 11:29:15][INFO] The subtask md_0 of 6.rerun finishes \n",
      "[2022-10-14 11:29:15][INFO] The subtask md_0 of 6.rerun finishes \n",
      "[2022-10-14 11:29:15][INFO] The subtask md_0 of 6.rerun finishes \n",
      "[2022-10-14 11:29:15][INFO] The subtask md_1 of 6.rerun starts \n",
      "[2022-10-14 11:29:15][INFO] The subtask md_1 of 6.rerun starts \n",
      "[2022-10-14 11:29:15][INFO] The subtask md_1 of 6.rerun starts \n",
      "[2022-10-14 11:29:15][INFO] The subtask md_1 of 6.rerun starts \n",
      "[2022-10-14 11:29:15][INFO] The subtask md_1 of 6.rerun starts \n",
      "[2022-10-14 11:29:19][INFO] The subtask md_1 of 6.rerun finishes \n",
      "[2022-10-14 11:29:19][INFO] The subtask md_1 of 6.rerun finishes \n",
      "[2022-10-14 11:29:19][INFO] The subtask md_1 of 6.rerun finishes \n",
      "[2022-10-14 11:29:19][INFO] The subtask md_1 of 6.rerun finishes \n",
      "[2022-10-14 11:29:19][INFO] The subtask md_1 of 6.rerun finishes \n",
      "[2022-10-14 11:29:19][INFO] The subtask md_2 of 6.rerun starts \n",
      "[2022-10-14 11:29:19][INFO] The subtask md_2 of 6.rerun starts \n",
      "[2022-10-14 11:29:19][INFO] The subtask md_2 of 6.rerun starts \n",
      "[2022-10-14 11:29:19][INFO] The subtask md_2 of 6.rerun starts \n",
      "[2022-10-14 11:29:19][INFO] The subtask md_2 of 6.rerun starts \n",
      "[2022-10-14 11:29:23][INFO] The subtask md_2 of 6.rerun finishes \n",
      "[2022-10-14 11:29:23][INFO] The subtask md_2 of 6.rerun finishes \n",
      "[2022-10-14 11:29:23][INFO] The subtask md_2 of 6.rerun finishes \n",
      "[2022-10-14 11:29:23][INFO] The subtask md_2 of 6.rerun finishes \n",
      "[2022-10-14 11:29:23][INFO] The subtask md_2 of 6.rerun finishes \n",
      "[2022-10-14 11:29:23][INFO] The subtask md_3 of 6.rerun starts \n",
      "[2022-10-14 11:29:23][INFO] The subtask md_3 of 6.rerun starts \n",
      "[2022-10-14 11:29:23][INFO] The subtask md_3 of 6.rerun starts \n",
      "[2022-10-14 11:29:23][INFO] The subtask md_3 of 6.rerun starts \n",
      "[2022-10-14 11:29:23][INFO] The subtask md_3 of 6.rerun starts \n"
     ]
    },
    {
     "name": "stdout",
     "output_type": "stream",
     "text": [
      "[2022-10-14 11:29:27][INFO] The subtask md_3 of 6.rerun finishes \n",
      "[2022-10-14 11:29:27][INFO] The subtask md_3 of 6.rerun finishes \n",
      "[2022-10-14 11:29:27][INFO] The subtask md_3 of 6.rerun finishes \n",
      "[2022-10-14 11:29:27][INFO] The subtask md_3 of 6.rerun finishes \n",
      "[2022-10-14 11:29:27][INFO] The subtask md_3 of 6.rerun finishes \n",
      "[2022-10-14 11:29:27][INFO] The subtask md_4 of 6.rerun starts \n",
      "[2022-10-14 11:29:27][INFO] The subtask md_4 of 6.rerun starts \n",
      "[2022-10-14 11:29:27][INFO] The subtask md_4 of 6.rerun starts \n",
      "[2022-10-14 11:29:27][INFO] The subtask md_4 of 6.rerun starts \n",
      "[2022-10-14 11:29:27][INFO] The subtask md_4 of 6.rerun starts \n",
      "[2022-10-14 11:29:33][INFO] The subtask md_4 of 6.rerun finishes \n",
      "[2022-10-14 11:29:33][INFO] The subtask md_4 of 6.rerun finishes \n",
      "[2022-10-14 11:29:33][INFO] The subtask md_4 of 6.rerun finishes \n",
      "[2022-10-14 11:29:33][INFO] The subtask md_4 of 6.rerun finishes \n",
      "[2022-10-14 11:29:33][INFO] The subtask md_4 of 6.rerun finishes \n",
      "[2022-10-14 11:29:33][INFO] Task_step 6.rerun finish runing \n",
      "[2022-10-14 11:29:33][INFO] Task_step 6.rerun finish runing \n",
      "[2022-10-14 11:29:33][INFO] Task_step 6.rerun finish runing \n",
      "[2022-10-14 11:29:33][INFO] Task_step 6.rerun finish runing \n",
      "[2022-10-14 11:29:33][INFO] Task_step 6.rerun finish runing \n",
      "[2022-10-14 11:29:33][INFO] All task steps in workflow finish runing \n",
      "[2022-10-14 11:29:33][INFO] All task steps in workflow finish runing \n",
      "[2022-10-14 11:29:33][INFO] All task steps in workflow finish runing \n",
      "[2022-10-14 11:29:33][INFO] All task steps in workflow finish runing \n",
      "[2022-10-14 11:29:33][INFO] All task steps in workflow finish runing \n"
     ]
    }
   ],
   "source": [
    "run_dir = \"./2.subtask/\"\n",
    "# os.mkdir(run_dir)\n",
    "os.chdir(run_dir)\n",
    "\n",
    "task = Gromacs_workflow(workflow_json=workflow_json, gmx_exe=gmx_exe)\n",
    "task.task_run() "
   ]
  },
  {
   "cell_type": "markdown",
   "metadata": {
    "ExecuteTime": {
     "end_time": "2022-09-10T12:03:55.666613Z",
     "start_time": "2022-09-10T12:03:55.649626Z"
    },
    "heading_collapsed": true
   },
   "source": [
    "# free energy test"
   ]
  },
  {
   "cell_type": "markdown",
   "metadata": {
    "hidden": true
   },
   "source": [
    "The test case is to calculate the solvation free energy of of CH4 in water. Parameter, structure and force field are from toturial by Justin A. Lemkul (http://www.mdtutorials.com/gmx/free_energy/index.html).\n",
    "\n",
    "Free energy calculaiton is realized with the subtasks method"
   ]
  },
  {
   "cell_type": "code",
   "execution_count": null,
   "metadata": {
    "ExecuteTime": {
     "end_time": "2022-10-15T13:39:34.143353Z",
     "start_time": "2022-10-15T13:34:51.220Z"
    },
    "code_folding": [],
    "collapsed": true,
    "hidden": true
   },
   "outputs": [],
   "source": [
    "\n",
    "ff_list = [os.path.abspath(i) for i in glob.glob(\"./test/3.free_energy/*itp\")]\n",
    "structure = os.path.abspath(\"./test/3.free_energy/conf.gro\")\n",
    "\n",
    "\n",
    "nvt_mdp[\"ref-t\"] = 300\n",
    "npt_mdp[\"ref-t\"] = 300\n",
    "\n",
    "free_energy_0 = copy.deepcopy(free_energy)\n",
    "\n",
    "free_energy_0[\"init-lambda-state\"] = [5,6,7]\n",
    "free_energy_0[\"nsteps\"] = 5000\n",
    "free_energy_0[\"couple-moltype\"] = \"Met\"\n",
    "\n",
    "workflow_json = { \"task_step\" :[\"1.minimization\", \"2.nvt\",\"3.npt\", \"4.free_energy\"],\n",
    "                \"1.minimization\":{\"runtype\":\"ntomp\", \"task_type\":\"minimization\",\"ff_list\":ff_list,\n",
    "                                  \"mdp_para\":minimization, \"structure\": structure},\n",
    "                \"2.nvt\"     :{\"runtype\":\"ntomp\", \"task_type\":\"nvt\", \"ff_list\":ff_list,                              \n",
    "                                   \"mdp_para\":nvt_mdp, },\n",
    "                \"3.npt\"     :{\"runtype\":\"ntomp\", \"task_type\":\"npt\", \"ff_list\":ff_list,\n",
    "                                   \"mdp_para\":npt_mdp, },\n",
    "                \"4.free_energy\"  :{\"runtype\":\"ntomp\", \"task_type\":\"free_energy\", \"ff_list\":ff_list,\n",
    "                                   \"ff_type\":\"opls\",\n",
    "#                                    \"structure\": structure,\n",
    "                                   \"mdp_para\":free_energy_0,\n",
    "                                    \"result\": {\"bar\":{}}},\n",
    "                 \"start_step\" : 0,\n",
    "#                  \"start_mode\" :\"from_scratch\"\n",
    "                \n",
    "                }\n"
   ]
  },
  {
   "cell_type": "code",
   "execution_count": 3,
   "metadata": {
    "ExecuteTime": {
     "end_time": "2022-10-16T12:14:46.731287Z",
     "start_time": "2022-10-16T12:14:46.727287Z"
    },
    "hidden": true
   },
   "outputs": [],
   "source": [
    "# run_dir = \"./3.free_energy/\"\n",
    "# os.mkdir(run_dir)\n",
    "# os.chdir(run_dir)\n",
    "# task = Gromacs_workflow(workflow_json=workflow_json, gmx_exe=gmx_exe)\n",
    "# task.task_run() "
   ]
  },
  {
   "cell_type": "markdown",
   "metadata": {
    "heading_collapsed": true
   },
   "source": [
    "#  pull test"
   ]
  },
  {
   "cell_type": "markdown",
   "metadata": {
    "hidden": true
   },
   "source": [
    "The test case is to calculate the change of free energy along the center of mass distance between of two CH4 molecues.\n",
    "\n",
    "Calculaiton is realized uisng the subtasks method. Position restraint and index are applied in the case"
   ]
  },
  {
   "cell_type": "code",
   "execution_count": 4,
   "metadata": {
    "ExecuteTime": {
     "end_time": "2022-10-16T12:02:23.079908Z",
     "start_time": "2022-10-16T12:02:23.003956Z"
    },
    "hidden": true
   },
   "outputs": [],
   "source": [
    "\n",
    "ff_list = [os.path.abspath(i) for i in glob.glob(\"./test/4.pull/*itp\")]\n",
    "structure = os.path.abspath(\"./test/4.pull/conf.gro\")\n",
    "\n",
    "\n",
    "pull_0 = {}\n",
    "\n",
    "pull_0[\"nsteps\"] = 5000\n",
    "pull_0[\"pull-group1-name\"] = \"Met1\"\n",
    "pull_0[\"pull-group2-name\"] = \"Met2\"\n",
    "\n",
    "pull_1 = {}\n",
    "pull_1[\"nsteps\"] = 5000\n",
    "pull_1[\"pull-group1-name\"] = \"Met1\"\n",
    "pull_1[\"pull-group2-name\"] = \"Met2\"\n",
    "pull_1[\"pull-coord1-start\"] = \"yes\"\n",
    "pull_1[\"pull-coord1-dim\"] = \"Y Y Y\"\n",
    "pull_1[\"pull-coord1-rate\"] = \"0.0\"\n",
    "\n",
    "workflow_json = { \"task_step\" :[\"1.minimization\", \"2.nvt\",\"3.npt\", \"4.pull\", \"5.pull\"],\n",
    "                \"1.minimization\":{\"runtype\":\"ntomp\", \"task_type\":\"minimization\",\"ff_list\":ff_list,\n",
    "                                  \"mdp_para\":minimization, \"structure\": structure},\n",
    "                \"2.nvt\"     :{\"runtype\":\"ntomp\", \"task_type\":\"nvt\", \"ff_list\":ff_list,                              \n",
    "                                   \"mdp_para\":nvt_mdp, },\n",
    "                \"3.npt\"     :{\"runtype\":\"ntomp\", \"task_type\":\"npt\", \"ff_list\":ff_list,\n",
    "                                   \"mdp_para\":npt_mdp, },\n",
    "                \"4.pull\"  :{\"runtype\":\"ntomp\", \"task_type\":\"pull\", \"ff_list\":ff_list,\n",
    "                                    \"pos_restraint\":{\"Met1\":[[1,1,1000,1000,1000]],\"Met2\":[[1,1,1000,1000,0]]},\n",
    "                                   \"ff_type\":\"opls\", \"index\":{\"Met1\":{\"mol\":[1]},\"Met2\":{\"mol\":[2]}},\n",
    "#                                    \"structure\": structure,\n",
    "                            \"result\":{\"structure\":{\"dump_time\":[0, 0.1,0.2]}},\n",
    "                                   \"mdp_para\":pull_0},\n",
    "                \"5.pull\"  :{\"runtype\":\"ntomp\", \"task_type\":\"pull\", \"ff_list\":ff_list,\n",
    "                                   \"ff_type\":\"opls\", \"index\":{\"Met1\":{\"mol\":[1]},\"Met2\":{\"mol\":[2]}},\n",
    "                                   \"mdp_para\":pull_1,\n",
    "                            \"result\":{\"wham\":{}}\n",
    "                            },\n",
    "                 \n",
    "#                  \"start_step\" : 3,\n",
    "#                  \"start_mode\" :\"from_scratch\"\n",
    "                \n",
    "                }\n",
    "\n",
    "\n",
    "# dir_path = \"C://Users//dianc//Desktop//jpy文档//11.operator/pull_test/\"\n",
    "gmx_exe  = { \"gmx\" :\"gmx.exe\", \"gmx_d\" :\"gmx.exe\" }"
   ]
  },
  {
   "cell_type": "code",
   "execution_count": 2,
   "metadata": {
    "ExecuteTime": {
     "end_time": "2022-10-16T12:14:17.974915Z",
     "start_time": "2022-10-16T12:14:17.957922Z"
    },
    "hidden": true
   },
   "outputs": [],
   "source": [
    "run_dir = \"./4.pull/\"\n",
    "os.mkdir(run_dir)\n",
    "os.chdir(run_dir)\n",
    "task = Gromacs_workflow(workflow_json=workflow_json, gmx_exe=gmx_exe)\n",
    "task.task_run() "
   ]
  }
 ],
 "metadata": {
  "kernelspec": {
   "display_name": "Python 3",
   "language": "python",
   "name": "python3"
  },
  "language_info": {
   "codemirror_mode": {
    "name": "ipython",
    "version": 3
   },
   "file_extension": ".py",
   "mimetype": "text/x-python",
   "name": "python",
   "nbconvert_exporter": "python",
   "pygments_lexer": "ipython3",
   "version": "3.6.3"
  },
  "toc": {
   "base_numbering": 1,
   "nav_menu": {},
   "number_sections": true,
   "sideBar": true,
   "skip_h1_title": false,
   "title_cell": "Table of Contents",
   "title_sidebar": "Contents",
   "toc_cell": false,
   "toc_position": {},
   "toc_section_display": true,
   "toc_window_display": false
  }
 },
 "nbformat": 4,
 "nbformat_minor": 2
}
