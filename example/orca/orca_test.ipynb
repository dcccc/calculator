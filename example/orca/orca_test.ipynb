{
 "cells": [
  {
   "cell_type": "markdown",
   "metadata": {},
   "source": [
    "Orca is a class used to run orca(In the forum(https://orcaforum.kofo.mpg.de/index.php) you can find the manual and software download address) in python enviroment and finish some quantum chemistry calculaitons with settings of dicts. And the class Orca_workflow realizes a workflow protocal based on the Orca class, which can conduct a calculation task of multi-steps with a predefined settings of a dict. This will bring much convenience when lots of tasks of same kind are to be finished in works."
   ]
  },
  {
   "cell_type": "markdown",
   "metadata": {},
   "source": [
    "# Orca class test"
   ]
  },
  {
   "cell_type": "code",
   "execution_count": 2,
   "metadata": {
    "ExecuteTime": {
     "end_time": "2024-01-17T13:58:20.668266Z",
     "start_time": "2024-01-17T13:58:19.516513Z"
    }
   },
   "outputs": [],
   "source": [
    "from calculator.orca.orca import Orca\n",
    "from calculator.orca.orca_workflow import Orca_workflow\n",
    "import  os,re,sys,json\n",
    "import numpy as np"
   ]
  },
  {
   "cell_type": "markdown",
   "metadata": {},
   "source": [
    "Before calculation, orca and openmpi should be installed. You can refer to the install script(https://github.com/dcccc/calculator/blob/main/example/orca/how_to_install_orca.sh) or corresponding content in orca manual. After installation, executable file paths of orca and openmpi orca and openmpi can be obtianed. They are setted with a dict. "
   ]
  },
  {
   "cell_type": "code",
   "execution_count": 3,
   "metadata": {
    "ExecuteTime": {
     "end_time": "2024-01-17T13:58:21.740927Z",
     "start_time": "2024-01-17T13:58:21.738082Z"
    }
   },
   "outputs": [],
   "source": [
    "#           executable file path of orca \n",
    "orca_exe = {\"orca\":\"/mnt/c/TDDownload/orca_5_0_4_linux_x86-64_shared_openmpi411/orca\",\n",
    "#           executable file path of openmpi. when the openmpi is not presented, the orca can only\n",
    "#           be ran in a serial mode(one core is used in the calculaiton)\n",
    "            \"openmpi\":\"/home/flw/software/openmpi/openmpi411/bin/mpirun\",}\n"
   ]
  },
  {
   "cell_type": "code",
   "execution_count": 6,
   "metadata": {
    "ExecuteTime": {
     "end_time": "2024-01-16T17:20:43.881984Z",
     "start_time": "2024-01-16T17:20:43.879083Z"
    }
   },
   "outputs": [],
   "source": [
    "# create a instance of Orca class with setting of orca and openmpi dict setting of executable file path \n",
    "orca = Orca(orca_exe=orca_exe)"
   ]
  },
  {
   "cell_type": "markdown",
   "metadata": {},
   "source": [
    "The parameters for the calculation are also dicts, including \"para\" for the content of calculaiton method and \"mol\" for the molecule system to be studied.\n",
    "\n",
    "The detail of \"para\" parameters is :"
   ]
  },
  {
   "cell_type": "code",
   "execution_count": null,
   "metadata": {},
   "outputs": [],
   "source": [
    "para = {\n",
    "#  the memory to be used for every core, corresponding to the \"maxcore\" keyword in orca. No default value.\n",
    "#  and won't be written in input file when not setted\n",
    "# value type : int\n",
    "\"maxcore\": None,\n",
    "\n",
    "# the number of process used in calculaiton, corresponding to the \"nprocs\" keyword in orca. No default \n",
    "# value. And \"nprocs\" keyword line won't be written in input file when not presented, so the orca will \n",
    "# be run in a serial mode. Of cuause, you can use \"pal\" keyword in keyword line for parallel computing\n",
    "# while not using this key item.\n",
    "# value type : int\n",
    "\"nprocs\" : 1,\n",
    "\n",
    "# the keyword line in orca input file, corresponding to the \"nprocs\" keyword in orca,\n",
    "#  which can not be omitted. When not presented, a error will be raised\n",
    "# value type : string\n",
    "\"keyword\":\"\"\n",
    "\n",
    "# the detail control parameters for calculation. Every item in the the dict of \"detail_para\" is a \n",
    "# \"input block\". The name of \"input block\" item is the block name of \"input block\", and the item \n",
    "#  names and values of input block\" items are the setting and values for the \"input block\".No default \n",
    "#  value, and won't be written in input file when not setted \n",
    "# value type : dict\n",
    "\"detail_para\":{}\n",
    "    \n",
    "# same to the previous \"detail_para\", and it is for those detail control parameters blocks which has \n",
    "# to be placed after molecule coordiante part, like \"eprnmr\"  block.No default value, and won't be \n",
    "# written in input file when not setted \n",
    "# value type : dict\n",
    "\"para_after_coord\"{}\n",
    "}\n",
    "\n"
   ]
  },
  {
   "cell_type": "markdown",
   "metadata": {},
   "source": [
    "A sample \"para\" is like "
   ]
  },
  {
   "cell_type": "code",
   "execution_count": 11,
   "metadata": {
    "ExecuteTime": {
     "end_time": "2024-01-16T17:22:22.725883Z",
     "start_time": "2024-01-16T17:22:22.721429Z"
    }
   },
   "outputs": [],
   "source": [
    "para = {\"maxcore\": 2000, \n",
    "        \"nprocs\": 4 ,\n",
    "        \"keyword\":\" b3lyp/g d3bj  DEF2-SVP \",\n",
    "        \"detail_para\":{\"ELPROP\":{\"POLAR\":1}, \n",
    "                       \"CPCM\": {\"smd\":\"true\", \"SMDSOLVENT\" :' \"1-OCTANOL\" '}},\n",
    "        \"para_after_coord\":{\"EPRNMR\":{\"NUCLEI\":\"= ALL H {SHIFT, SSALL}\"}} }\n",
    "        "
   ]
  },
  {
   "cell_type": "markdown",
   "metadata": {},
   "source": [
    "And the detail of \"mol\" parameters is :"
   ]
  },
  {
   "cell_type": "code",
   "execution_count": null,
   "metadata": {},
   "outputs": [],
   "source": [
    "mol  = {\n",
    "# the charge of molecule, the defualt value is 0\n",
    "# value type : float\n",
    "\"charge\":0, \n",
    "    \n",
    "# the spin of molecule, the defualt value is 1    \n",
    "# value type : int\n",
    "\"spin\":1, \n",
    "\n",
    "# the atom types and coordinates of molecule, which can not be omitted.\n",
    "# value type : string \n",
    "\"coord\":\"\", \n",
    "\n",
    "# the type of coordinate of molecule, value can be \"xyz\" for xyz type or \"int\" for internal coordinate\n",
    "# value type : string\n",
    "\"coord_type\":\"\"}"
   ]
  },
  {
   "cell_type": "markdown",
   "metadata": {
    "ExecuteTime": {
     "end_time": "2024-01-08T16:27:32.720284Z",
     "start_time": "2024-01-08T16:27:32.708842Z"
    }
   },
   "source": [
    "A sample mol is like"
   ]
  },
  {
   "cell_type": "code",
   "execution_count": 9,
   "metadata": {
    "ExecuteTime": {
     "end_time": "2024-01-16T17:20:54.667264Z",
     "start_time": "2024-01-16T17:20:54.664477Z"
    }
   },
   "outputs": [],
   "source": [
    "mol_xyz = '''\n",
    "O         -3.56626        1.77639        0.00000\n",
    "H         -2.59626        1.77639        0.00000\n",
    "H         -3.88959        1.36040       -0.81444\n",
    "'''    \n",
    "    \n",
    "mol  = {\"charge\":0, \"spin\":1, \"coord\":mol_xyz, \"coord_type\":\"xyz\"}"
   ]
  },
  {
   "cell_type": "markdown",
   "metadata": {},
   "source": [
    "When para and mol are prepared, the orca input file content can be printed for check"
   ]
  },
  {
   "cell_type": "code",
   "execution_count": 12,
   "metadata": {
    "ExecuteTime": {
     "end_time": "2024-01-16T17:22:27.076041Z",
     "start_time": "2024-01-16T17:22:27.073032Z"
    }
   },
   "outputs": [
    {
     "name": "stdout",
     "output_type": "stream",
     "text": [
      "%MaxCore  2000 \n",
      "%PAL NPROCS 4 END \n",
      "!  b3lyp/g d3bj  DEF2-SVP \n",
      "%ELPROP\n",
      "    POLAR      1  \n",
      "END\n",
      "%CPCM\n",
      "    smd        true  \n",
      "    SMDSOLVENT  \"1-OCTANOL\"   \n",
      "END\n",
      "* xyz  0   1 \n",
      " \n",
      "O         -3.56626        1.77639        0.00000\n",
      "H         -2.59626        1.77639        0.00000\n",
      "H         -3.88959        1.36040       -0.81444\n",
      "*\n",
      "%EPRNMR\n",
      "    NUCLEI     = ALL H {SHIFT, SSALL}  \n",
      "END\n",
      "\n"
     ]
    }
   ],
   "source": [
    "orca.write_input(mol, para,  print_input=True, write_input=False)"
   ]
  },
  {
   "cell_type": "markdown",
   "metadata": {},
   "source": [
    "When the para and mol are checked without error, the the calculation can be ran"
   ]
  },
  {
   "cell_type": "code",
   "execution_count": 6,
   "metadata": {
    "ExecuteTime": {
     "end_time": "2024-01-16T16:10:26.509565Z",
     "start_time": "2024-01-16T16:10:22.364570Z"
    }
   },
   "outputs": [],
   "source": [
    "# mpirun_para can be setted, which will be added after \"mpirun \"  command, and the \" --oversubscribe\" is \n",
    "# added by default. The orca jobname is \"orca\".\n",
    "# value type : string\n",
    "os.mkdir(\"./orca_test\")\n",
    "os.chdir(\"./orca_test\")\n",
    "orca.write_input(mol, para)\n",
    "orca.run(mpirun_para=\"\") "
   ]
  },
  {
   "cell_type": "markdown",
   "metadata": {
    "ExecuteTime": {
     "end_time": "2024-01-04T14:33:33.658531Z",
     "start_time": "2024-01-04T14:33:33.646287Z"
    },
    "code_folding": [
     0
    ]
   },
   "source": [
    "After finish calculaiton, some kind of results can be read with function method in Orca class.The detail of those functions can be referred to from the source code of functions."
   ]
  },
  {
   "cell_type": "code",
   "execution_count": null,
   "metadata": {
    "ExecuteTime": {
     "end_time": "2024-01-08T16:51:09.422460Z",
     "start_time": "2024-01-08T16:51:09.418228Z"
    }
   },
   "outputs": [],
   "source": [
    "\n",
    "Orca.get_dipole()     # get dipole  \n",
    "Orca.get_ecd()        # get ecd absorption spectra \n",
    "Orca.get_energy(energy_list=[])     # get energy item in \"orca_perpoty.txt\" file, energy_list is a list of \n",
    "                                    # strings, the member in list is the energy item to be extracted from \n",
    "                                    # \"orca_perpoty.txt\". When not founded, None is returned\n",
    "Orca.get_hessian()    # get hessian  \n",
    "Orca.get_ir()         # get ir data   \n",
    "Orca.get_mo_energy()  # get molecule orbit energy   \n",
    "Orca.get_nmr()        # get nmr result   \n",
    "Orca.get_raman()      # get raman result   \n",
    "Orca.get_runtime()    # get the computation time and coretime of current task\n",
    "Orca.get_soc()        # get the spin-orbit coupling result\n",
    "Orca.get_trajectory() # get the trajectory result\n",
    "Orca.get_uv()         # get the UV/Vis  absorption spectra result"
   ]
  },
  {
   "cell_type": "code",
   "execution_count": 9,
   "metadata": {
    "ExecuteTime": {
     "end_time": "2024-01-16T16:25:16.638817Z",
     "start_time": "2024-01-16T16:25:16.631636Z"
    }
   },
   "outputs": [
    {
     "data": {
      "text/plain": [
       "{'energy': 76.368106346207, 'Total Energy': -76.368106}"
      ]
     },
     "execution_count": 9,
     "metadata": {},
     "output_type": "execute_result"
    }
   ],
   "source": [
    "# get \"Total Energy\" in \"orca_perpoty.txt\" \n",
    "Orca.get_energy(energy_list=[\"Total Energy\"])"
   ]
  },
  {
   "cell_type": "code",
   "execution_count": 8,
   "metadata": {
    "ExecuteTime": {
     "end_time": "2024-01-16T16:25:10.292599Z",
     "start_time": "2024-01-16T16:25:10.287051Z"
    }
   },
   "outputs": [
    {
     "data": {
      "text/plain": [
       "array([[ 1.    ,  2.    , -2.3283]])"
      ]
     },
     "execution_count": 8,
     "metadata": {},
     "output_type": "execute_result"
    }
   ],
   "source": [
    "# get nmr result\n",
    "Orca.get_nmr()"
   ]
  },
  {
   "cell_type": "markdown",
   "metadata": {},
   "source": [
    "# workflow test"
   ]
  },
  {
   "cell_type": "markdown",
   "metadata": {},
   "source": [
    "When orca and openmpi are installed, a dict of setting can be defined to conduct a claculation workflow.The parameters for the calculation is a dict, which includes \"task_step\" for the task step name of calculaiton steps and the calculaiton parameters named with the task step name of calculaiton steps.\n",
    "\n",
    "The detail of \"workflow_dict\" parameters is :"
   ]
  },
  {
   "cell_type": "code",
   "execution_count": 4,
   "metadata": {
    "ExecuteTime": {
     "end_time": "2024-01-15T16:43:42.430764Z",
     "start_time": "2024-01-15T16:43:42.425993Z"
    }
   },
   "outputs": [],
   "source": [
    "workflow_dict ={\n",
    "    # The name list of task steps, and shouldn't be []. Every task step calculation will be ran or skipped \n",
    "    # if the task step has a valid corresponding settings in the workflow_dict.\n",
    "    # the workflow_dict will be saved as \"workflow.json\" file after every task step finished .\n",
    "    \"task_step\":[], \n",
    "    # The parameter and molecule system settings for the task steps in the task step list.\n",
    "    \"task_step_name\" : {\n",
    "        # The molecule system setting, which is same to the \"mol\" in previos orca calculation setting. \n",
    "        # When it is not setted, the calcuation result molecule of last task step will be used. \n",
    "        \"mol\" : {},\n",
    "        # the calculation setting for the task step. It can not be omitted.\n",
    "        \"para\" :{},\n",
    "        # the run mode of this task step. \n",
    "        # The default value is None, which means a directory with name of this task step iwill be \n",
    "        # created, and calculation will be ran in it. If there is a directory of name of this task \n",
    "        # step created before, then the directory will be backuped to a name of \"***_bak\" and with \n",
    "        # a number after it. \n",
    "        \n",
    "        # \"continue_run\" : enter into the previous directory with name of this task step created before, \n",
    "        # and run the calculation. This mode is for the restart calculation when the previous calculation\n",
    "        # of this task step is stopped unexpectly.    \n",
    "        \n",
    "        # \"cmd\" :  the shell command script lines in \"cmd\" item are to be ran at current directory. \n",
    "        # The \"para\" and \"mol\" are not used in this mode\n",
    "        \n",
    "        #\"skipped\" : this task step will be skipped \n",
    "        \"run_type\":None,\n",
    "        \n",
    "        # the shell command script line(s), which are to be ran at current directory. It is a string\n",
    "        # or list of strings.\n",
    "        \"cmd\" : [],\n",
    "        \n",
    "        # the result items of to be read from result files after orca calculation of task step.\n",
    "        # the \"xyz\" , \"energy\" and \"runtime\" are default. \"xyz\" is the molecule structure result, \n",
    "        # \"energy\" is the last \"FINAL SINGLE POINT ENERGY\" in \"orca.out\" file, and \"runtime\"  is the \n",
    "        # time taken to finish the calculation of the task step\n",
    "        # other valid items are \"dipole\", \"ecd\", \"energy\", \"hessian \", \"ir\", \"mo_energy \", \"nmr\", \n",
    "        # \"raman\", \"runtime\", \"soc\", \"trajectory\", \"uv\", which corresponds the results read function \n",
    "        # method in Orca class\n",
    "        # the value can be a dict or a list. When the value is a dict, the value of item \"energy\" can be \n",
    "        # a list of strings, then the corresponding energy in \"energy\" item list will be read from the \n",
    "        # \"orca_property.txt\" file.        \n",
    "        \"result\" :[] ,\n",
    "        \n",
    "        # the files are to be deleted after orca calculation of this task step\n",
    "        \"delete_files\":[]\n",
    "    }\n",
    "}"
   ]
  },
  {
   "cell_type": "markdown",
   "metadata": {},
   "source": [
    "A sample of workflow dict is as below.\n",
    "\n",
    "NOTICE: The parameters and molecule settings are not for production calculaiton,they are only for test and presention of workflow. "
   ]
  },
  {
   "cell_type": "code",
   "execution_count": 24,
   "metadata": {
    "ExecuteTime": {
     "end_time": "2024-01-17T14:07:33.911383Z",
     "start_time": "2024-01-17T14:07:33.905329Z"
    }
   },
   "outputs": [],
   "source": [
    "mol_xyz = '''\n",
    "O         -3.56626        1.77639        0.00000\n",
    "H         -2.59626        1.77639        0.00000\n",
    "H         -3.88959        1.36040       -0.81444\n",
    "'''    \n",
    "    \n",
    "mol  = {\"charge\":0, \"spin\":1, \"coord\":mol_xyz, \"coord_type\":\"xyz\"}\n",
    "\n",
    "# optimize mol with b97-3c method\n",
    "para_b973c = {\"maxcore\": 2000, \n",
    "              \"nprocs\": 4 ,\n",
    "              \"keyword\":\" opt b97-3c \"}\n",
    "\n",
    "# optimize mol which has been optimized by previous step b97-3c method with b3lyp fucntional, \n",
    "# DEF2-TZVP basis set at the solvent of water enviroment,  \n",
    "para_b3lyp = {\"maxcore\": 2000, \n",
    "              \"nprocs\": 4 ,\n",
    "              \"keyword\":\" opt b3lyp/g d3bj  DEF2-TZVP RIJCOSX def2/J \",\n",
    "              \"detail_para\":{\"CPCM\": {\"smd\":\"true\", \"SMDSOLVENT\" :' \"WATER\" '}}\n",
    "             }\n",
    "\n",
    "# calculate the single point energy, frequency, with \n",
    "# DEF2-TZVP basis set at the solvent of water enviroment. and get the result \n",
    "para_wb97mv = {\"maxcore\": 2000, \n",
    "              \"nprocs\": 4 ,\n",
    "              \"keyword\":\" wb97m-v  def2-TZVPP  RIJCOSX def2/J numfreq \",\n",
    "              \"detail_para\":{\"CPCM\": {\"smd\":\"true\", \"SMDSOLVENT\" :' \"WATER\" '}}\n",
    "                             \n",
    "              }\n",
    "\n",
    "# calculate the uv/vis absorption spectrum with double hybrid functional  \n",
    "para_dh     = {\"maxcore\": 2000, \n",
    "              \"nprocs\": 1 ,\n",
    "              \"keyword\":\" ri-SCS-PBE-QIDH  def2-TZVPP  RIJCOSX def2/J def2-TZVPP/C \",\n",
    "              \"detail_para\":{\"TDDFT\":{\"nroots\":5}, \n",
    "                             \"mp2\": {\"Density\": \"relaxed\"},\n",
    "                             \"CPCM\": {\"smd\":\"true\", \"SMDSOLVENT\" :' \"WATER\" '}},\n",
    "               }\n",
    "\n",
    "workflow_dict = {\"task_step\":[\"1.opt_b973c\", \"2.opt_b3lyp\", \"3.sp_wb97mv\", \"4.tddft_SCS-PBE-QIDH\"], \n",
    "                 \n",
    "                 \"1.opt_b973c\": {\"mol\":mol, \"para\":para_b973c, \"delete_files\":[\"*gbw\", \"*densities\"]},\n",
    "                 \n",
    "                 # the \"mol\" is not setted, so the result mol structure of step \"1.opt_b973c\" will be used\n",
    "                 \"2.opt_b3lyp\": {\"para\":para_b3lyp, \n",
    "                                 \"delete_files\":[\"*gbw\", \"*densities\", \"*smd*\", \"*opt\", \"*cpcm\"]},\n",
    "                 \n",
    "                 # the \"mol\" is not setted, so the result mol structure of step \"2.opt_b3lyp\" will be used\n",
    "                 \"3.sp_wb97mv\": {\"para\":para_wb97mv,\n",
    "                                 \"result\":[\"raman\", \"hessian\", \"ir\"],\n",
    "                                 \"delete_files\":[\"*gbw\", \"*densities\", \"*smd*\", \"*opt\", \"*cpcm\"]},\n",
    "                 \n",
    "                 # the \"mol\" is not setted, so the input mol structure of step \"3.sp_wb97mv\" will be used\n",
    "                 \"4.tddft_SCS-PBE-QIDH\": \n",
    "                                 # as the \"run_type\" is \"skipped\", so this task step will be skipped\n",
    "                                {\"run_type\": \"skipped\",\n",
    "                                 \"para\":para_dh, \n",
    "                                 \"result\":[\"uv\"],\n",
    "                                 \"delete_files\":[\"*gbw\", \"*densities\", \"*smd*\", \"*opt\", \"*cpcm\", \"*cis\"]},\n",
    "                 \n",
    "                 # the step name of this task step is not in the \"task_step\" list, so this step will not \n",
    "                 # be ran\n",
    "                 \"5.cmd\":{\"cmd\":[\"rm */*opt\"]}\n",
    "                 }"
   ]
  },
  {
   "cell_type": "code",
   "execution_count": 27,
   "metadata": {
    "ExecuteTime": {
     "end_time": "2024-01-17T14:08:44.119911Z",
     "start_time": "2024-01-17T14:08:44.115376Z"
    }
   },
   "outputs": [],
   "source": [
    "os.mkdir(\"./orca_workflow_test\")\n",
    "os.chdir(\"./orca_workflow_test\")\n",
    "workflow = Orca_workflow(orca_exe=orca_exe, workflow_json=workflow_dict)\n",
    "workflow.task_run()"
   ]
  }
 ],
 "metadata": {
  "kernelspec": {
   "display_name": "py39",
   "language": "python",
   "name": "py39"
  },
  "language_info": {
   "codemirror_mode": {
    "name": "ipython",
    "version": 3
   },
   "file_extension": ".py",
   "mimetype": "text/x-python",
   "name": "python",
   "nbconvert_exporter": "python",
   "pygments_lexer": "ipython3",
   "version": "3.9.18"
  },
  "toc": {
   "base_numbering": 1,
   "nav_menu": {},
   "number_sections": true,
   "sideBar": true,
   "skip_h1_title": false,
   "title_cell": "Table of Contents",
   "title_sidebar": "Contents",
   "toc_cell": false,
   "toc_position": {
    "height": "calc(100% - 180px)",
    "left": "10px",
    "top": "150px",
    "width": "165px"
   },
   "toc_section_display": true,
   "toc_window_display": false
  }
 },
 "nbformat": 4,
 "nbformat_minor": 2
}
